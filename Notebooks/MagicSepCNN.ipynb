{
  "nbformat": 4,
  "nbformat_minor": 0,
  "metadata": {
    "colab": {
      "name": "MagicSepCNN",
      "version": "0.3.2",
      "provenance": [],
      "collapsed_sections": [],
      "include_colab_link": true
    },
    "kernelspec": {
      "name": "python3",
      "display_name": "Python 3"
    },
    "accelerator": "GPU"
  },
  "cells": [
    {
      "cell_type": "markdown",
      "metadata": {
        "id": "view-in-github",
        "colab_type": "text"
      },
      "source": [
        "<a href=\"https://colab.research.google.com/github/MoltenMuffins/MagicSchoolBus/blob/master/MagicSepCNN.ipynb\" target=\"_parent\"><img src=\"https://colab.research.google.com/assets/colab-badge.svg\" alt=\"Open In Colab\"/></a>"
      ]
    },
    {
      "cell_type": "code",
      "metadata": {
        "id": "szu07hn92OS5",
        "colab_type": "code",
        "colab": {}
      },
      "source": [
        "#Thank you https://developers.google.com/machine-learning/guides/text-classification/step-4"
      ],
      "execution_count": 0,
      "outputs": []
    },
    {
      "cell_type": "markdown",
      "metadata": {
        "id": "EAuegDlwaNyq",
        "colab_type": "text"
      },
      "source": [
        "## 2. Explore Data"
      ]
    },
    {
      "cell_type": "code",
      "metadata": {
        "id": "WjAQe_gY3EeY",
        "colab_type": "code",
        "outputId": "82ebee4c-94ef-4823-bc9f-d4a8eec1c00b",
        "colab": {
          "base_uri": "https://localhost:8080/",
          "height": 104
        }
      },
      "source": [
        "#Download the files from the Kaggle NSDC page\n",
        "!wget -qq https://www.dropbox.com/s/dlpf8lirpf69nvb/ndsc-beginner.zip\n",
        "\n",
        "#Unzip the zip file\n",
        "!unzip -qq -n ndsc-beginner.zip\n",
        "\n",
        "#Remove zipfile, we won't need it anymore\n",
        "!rm ndsc-beginner.zip\n",
        "\n",
        "#Check directory contents\n",
        "!ls\n",
        "\n",
        "#The files we want are all in the folder ndsc-beginner"
      ],
      "execution_count": 0,
      "outputs": [
        {
          "output_type": "stream",
          "text": [
            " google_ndsc_sepcnn_wbatchnorm.csv   sample_data\n",
            " keras-adabound\t\t\t     tzuchieh_sepcnn_batchnorm\n",
            " __MACOSX\t\t\t    'yuning_sepcnn(1)_wbatchnorm_model.h5'\n",
            " ndsc-beginner\n"
          ],
          "name": "stdout"
        }
      ]
    },
    {
      "cell_type": "code",
      "metadata": {
        "id": "hgsb6c-UbDKX",
        "colab_type": "code",
        "colab": {}
      },
      "source": [
        "import pandas as pd"
      ],
      "execution_count": 0,
      "outputs": []
    },
    {
      "cell_type": "code",
      "metadata": {
        "id": "vgHJiUvP4q76",
        "colab_type": "code",
        "outputId": "34d5cb9a-565f-4bfa-a2f4-273e3979aedf",
        "colab": {
          "base_uri": "https://localhost:8080/",
          "height": 634
        }
      },
      "source": [
        "train_df = pd.read_csv(\"./ndsc-beginner/train.csv\")\n",
        "train_df.head()"
      ],
      "execution_count": 0,
      "outputs": [
        {
          "output_type": "execute_result",
          "data": {
            "text/html": [
              "<div>\n",
              "<style scoped>\n",
              "    .dataframe tbody tr th:only-of-type {\n",
              "        vertical-align: middle;\n",
              "    }\n",
              "\n",
              "    .dataframe tbody tr th {\n",
              "        vertical-align: top;\n",
              "    }\n",
              "\n",
              "    .dataframe thead th {\n",
              "        text-align: right;\n",
              "    }\n",
              "</style>\n",
              "<table border=\"1\" class=\"dataframe\">\n",
              "  <thead>\n",
              "    <tr style=\"text-align: right;\">\n",
              "      <th></th>\n",
              "      <th>itemid</th>\n",
              "      <th>title</th>\n",
              "      <th>Category</th>\n",
              "      <th>image_path</th>\n",
              "    </tr>\n",
              "  </thead>\n",
              "  <tbody>\n",
              "    <tr>\n",
              "      <th>0</th>\n",
              "      <td>307504</td>\n",
              "      <td>nyx sex bomb pallete natural palette</td>\n",
              "      <td>0</td>\n",
              "      <td>beauty_image/6b2e9cbb279ac95703348368aa65da09.jpg</td>\n",
              "    </tr>\n",
              "    <tr>\n",
              "      <th>1</th>\n",
              "      <td>461203</td>\n",
              "      <td>etude house precious mineral any cushion pearl...</td>\n",
              "      <td>1</td>\n",
              "      <td>beauty_image/20450222d857c9571ba8fa23bdedc8c9.jpg</td>\n",
              "    </tr>\n",
              "    <tr>\n",
              "      <th>2</th>\n",
              "      <td>3592295</td>\n",
              "      <td>milani rose powder blush</td>\n",
              "      <td>2</td>\n",
              "      <td>beauty_image/6a5962bed605a3dd6604ca3a4278a4f9.jpg</td>\n",
              "    </tr>\n",
              "    <tr>\n",
              "      <th>3</th>\n",
              "      <td>4460167</td>\n",
              "      <td>etude house baby sweet sugar powder</td>\n",
              "      <td>3</td>\n",
              "      <td>beauty_image/56987ae186e8a8e71fcc5a261ca485da.jpg</td>\n",
              "    </tr>\n",
              "    <tr>\n",
              "      <th>4</th>\n",
              "      <td>5853995</td>\n",
              "      <td>bedak revlon color stay aqua mineral make up</td>\n",
              "      <td>3</td>\n",
              "      <td>beauty_image/9c6968066ebab57588c2f757a240d8b9.jpg</td>\n",
              "    </tr>\n",
              "  </tbody>\n",
              "</table>\n",
              "</div>"
            ],
            "text/plain": [
              "    itemid                                              title  Category  \\\n",
              "0   307504               nyx sex bomb pallete natural palette         0   \n",
              "1   461203  etude house precious mineral any cushion pearl...         1   \n",
              "2  3592295                           milani rose powder blush         2   \n",
              "3  4460167                etude house baby sweet sugar powder         3   \n",
              "4  5853995       bedak revlon color stay aqua mineral make up         3   \n",
              "\n",
              "                                          image_path  \n",
              "0  beauty_image/6b2e9cbb279ac95703348368aa65da09.jpg  \n",
              "1  beauty_image/20450222d857c9571ba8fa23bdedc8c9.jpg  \n",
              "2  beauty_image/6a5962bed605a3dd6604ca3a4278a4f9.jpg  \n",
              "3  beauty_image/56987ae186e8a8e71fcc5a261ca485da.jpg  \n",
              "4  beauty_image/9c6968066ebab57588c2f757a240d8b9.jpg  "
            ]
          },
          "metadata": {
            "tags": []
          },
          "execution_count": 4
        }
      ]
    },
    {
      "cell_type": "code",
      "metadata": {
        "id": "AnZAbXHIymU1",
        "colab_type": "code",
        "outputId": "e1e70c9c-18d9-415b-aafd-5906ee7e6043",
        "colab": {
          "base_uri": "https://localhost:8080/",
          "height": 33
        }
      },
      "source": [
        "train_df.shape"
      ],
      "execution_count": 0,
      "outputs": [
        {
          "output_type": "execute_result",
          "data": {
            "text/plain": [
              "(666615, 4)"
            ]
          },
          "metadata": {
            "tags": []
          },
          "execution_count": 5
        }
      ]
    },
    {
      "cell_type": "code",
      "metadata": {
        "id": "sqmK7hVRaaqZ",
        "colab_type": "code",
        "colab": {}
      },
      "source": [
        "import numpy as np\n",
        "import matplotlib.pyplot as plt\n",
        "train_texts = train_df['title'].tolist()\n",
        "train_labels = np.array(train_df['Category'].tolist())"
      ],
      "execution_count": 0,
      "outputs": []
    },
    {
      "cell_type": "code",
      "metadata": {
        "id": "eZ1DcgiFc5mj",
        "colab_type": "code",
        "colab": {}
      },
      "source": [
        "def get_num_words_per_sample(sample_texts):\n",
        "    \"\"\"Returns the median number of words per sample given corpus.\n",
        "\n",
        "    # Arguments\n",
        "        sample_texts: list, sample texts.\n",
        "\n",
        "    # Returns\n",
        "        int, median number of words per sample.\n",
        "    \"\"\"\n",
        "    num_words = [len(s.split()) for s in sample_texts]\n",
        "    return np.median(num_words)\n",
        "\n",
        "def plot_sample_length_distribution(sample_texts):\n",
        "    \"\"\"Plots the sample length distribution.\n",
        "\n",
        "    # Arguments\n",
        "        samples_texts: list, sample texts.\n",
        "    \"\"\"\n",
        "    plt.hist([len(s) for s in sample_texts], 50)\n",
        "    plt.xlabel('Length of a sample')\n",
        "    plt.ylabel('Number of samples')\n",
        "    plt.title('Sample length distribution')\n",
        "    plt.show()\n",
        "    \n",
        "def get_max_words_all_sample(sample_texts):\n",
        "    \"\"\"Returns the median number of words per sample given corpus.\n",
        "\n",
        "    # Arguments\n",
        "        sample_texts: list, sample texts.\n",
        "\n",
        "    # Returns\n",
        "        int, median number of words per sample.\n",
        "    \"\"\"\n",
        "    num_words = [len(s.split()) for s in sample_texts]\n",
        "    return np.max(num_words)"
      ],
      "execution_count": 0,
      "outputs": []
    },
    {
      "cell_type": "code",
      "metadata": {
        "id": "IVmLr_cQc73s",
        "colab_type": "code",
        "outputId": "df216a47-1d19-4549-ed5f-d748385331ff",
        "colab": {
          "base_uri": "https://localhost:8080/",
          "height": 33
        }
      },
      "source": [
        "get_num_words_per_sample(train_texts)"
      ],
      "execution_count": 0,
      "outputs": [
        {
          "output_type": "execute_result",
          "data": {
            "text/plain": [
              "9.0"
            ]
          },
          "metadata": {
            "tags": []
          },
          "execution_count": 8
        }
      ]
    },
    {
      "cell_type": "code",
      "metadata": {
        "id": "UWlakbLRdkIA",
        "colab_type": "code",
        "outputId": "bf8a8ca3-f900-4b77-8a46-730ab6bea621",
        "colab": {
          "base_uri": "https://localhost:8080/",
          "height": 33
        }
      },
      "source": [
        "get_max_words_all_sample(train_texts)"
      ],
      "execution_count": 0,
      "outputs": [
        {
          "output_type": "execute_result",
          "data": {
            "text/plain": [
              "32"
            ]
          },
          "metadata": {
            "tags": []
          },
          "execution_count": 9
        }
      ]
    },
    {
      "cell_type": "code",
      "metadata": {
        "id": "U11cvL6Ix81K",
        "colab_type": "code",
        "outputId": "13c4486b-8555-493c-a766-1bcfb6a1a3c3",
        "colab": {
          "base_uri": "https://localhost:8080/",
          "height": 33
        }
      },
      "source": [
        "666615/9"
      ],
      "execution_count": 0,
      "outputs": [
        {
          "output_type": "execute_result",
          "data": {
            "text/plain": [
              "74068.33333333333"
            ]
          },
          "metadata": {
            "tags": []
          },
          "execution_count": 10
        }
      ]
    },
    {
      "cell_type": "markdown",
      "metadata": {
        "id": "1IMAFKb5dxu8",
        "colab_type": "text"
      },
      "source": [
        "## 2.5 Choose Model\n",
        "\n",
        "1. Calculate the number of samples/number of words per sample ratio.\n",
        "2. If this ratio is less than 1500, tokenize the text as n-grams and use a\n",
        "simple multi-layer perceptron (MLP) model to classify them (left branch in the\n",
        "flowchart below):\n",
        "  * Split the samples into word n-grams; convert the n-grams into vectors.\n",
        "  * Score the importance of the vectors and then select the top 20K using the scores.\n",
        "  * Build an MLP model.\n",
        "3. If the ratio is greater than 1500, tokenize the text as sequences and use a\n",
        "   sepCNN model to classify them (right branch in the flowchart below):   \n",
        "   * Split the samples into words; select the top 20K words based on their frequency.\n",
        "   * Convert the samples into word sequence vectors.\n",
        "   * If the original number of samples/number of words per sample ratio is less than 15K, using a fine-tuned pre-trained embedding with the sepCNN model will likely provide the best results.\n",
        "4. Measure the model performance with different hyperparameter values to find\n",
        "   the best model configuration for the dataset."
      ]
    },
    {
      "cell_type": "code",
      "metadata": {
        "id": "wx4a_KoYeUNJ",
        "colab_type": "code",
        "outputId": "6b685493-8151-48a3-992c-82148dd1b0ea",
        "colab": {
          "base_uri": "https://localhost:8080/",
          "height": 33
        }
      },
      "source": [
        "#Calculate samples divided (by number of words per sample)\n",
        "ratio = len(train_texts)/get_num_words_per_sample(train_texts)\n",
        "\n",
        "if ratio < 1500:\n",
        "  print('Use an MLP model')\n",
        "elif ratio > 1500:\n",
        "  print('Use sepCNN')"
      ],
      "execution_count": 0,
      "outputs": [
        {
          "output_type": "stream",
          "text": [
            "Use sepCNN\n"
          ],
          "name": "stdout"
        }
      ]
    },
    {
      "cell_type": "markdown",
      "metadata": {
        "id": "t6jkug6-ffrn",
        "colab_type": "text"
      },
      "source": [
        "![alt text](https://developers.google.com/machine-learning/guides/text-classification/images/TextClassificationFlowchart.png =550x)"
      ]
    },
    {
      "cell_type": "markdown",
      "metadata": {
        "id": "kZKLnowJrTEd",
        "colab_type": "text"
      },
      "source": [
        ""
      ]
    },
    {
      "cell_type": "markdown",
      "metadata": {
        "id": "K_xzIlX5f9Y_",
        "colab_type": "text"
      },
      "source": [
        "For the rest of this notebook we shall use the instructions contained in (Option B) to build our model."
      ]
    },
    {
      "cell_type": "markdown",
      "metadata": {
        "id": "wcrFEGCZgGS0",
        "colab_type": "text"
      },
      "source": [
        "## 3. Prepare \n",
        "\n",
        "Before our data can be fed to a model, it needs to be transformed to a format the model can understand.\n",
        "\n",
        "First, the data samples that we have gathered may be in a specific order. We do not want any information associated with the ordering of samples to influence the relationship between texts and labels. For example, if a dataset is sorted by class and is then split into training/validation sets, these sets will not be representative of the overall distribution of data.\n",
        "\n",
        "A simple best practice to ensure the model is not affected by data order is to always shuffle the data before doing anything else. If your data is already split into training and validation sets, make sure to transform your validation data the same way you transform your training data. If you don’t already have separate training and validation sets, you can split the samples after shuffling; it’s typical to use 80% of the samples for training and 20% for validation.\n",
        "\n",
        "Second, machine learning algorithms take numbers as inputs. This means that we will need to convert the texts into numerical vectors. There are two steps to this process:\n",
        "\n",
        "**Tokenization:** Divide the texts into words or smaller sub-texts, which will enable good generalization of relationship between the texts and the labels. This determines the “vocabulary” of the dataset (set of unique tokens present in the data).\n",
        "\n",
        "**Vectorization:** Define a good numerical measure to characterize these texts."
      ]
    },
    {
      "cell_type": "code",
      "metadata": {
        "id": "PvZ_ab7hgIP9",
        "colab_type": "code",
        "colab": {}
      },
      "source": [
        "#Generate Sequence Vectors\n",
        "from tensorflow.python.keras.preprocessing import sequence\n",
        "from tensorflow.python.keras.preprocessing import text\n",
        "\n",
        "# Vectorization parameters\n",
        "# Limit on the number of features. We use the top 20K features.\n",
        "TOP_K = 20000\n",
        "\n",
        "# Limit on the length of text sequences. Sequences longer than this\n",
        "# will be truncated.\n",
        "MAX_SEQUENCE_LENGTH = 500\n",
        "max_length = 30\n",
        "\n",
        "def train_tokenizer(train_texts):\n",
        "    # Create vocabulary with training texts.\n",
        "    global tokenizer\n",
        "    tokenizer = text.Tokenizer(num_words=TOP_K)\n",
        "    tokenizer.fit_on_texts(train_texts)\n",
        "\n",
        "def sequence_vectorize(train_texts, val_texts, max_length):\n",
        "    \"\"\"Vectorizes texts as sequence vectors.\n",
        "\n",
        "    1 text = 1 sequence vector with fixed length.\n",
        "\n",
        "    # Arguments\n",
        "        train_texts: list, training text strings.\n",
        "        val_texts: list, validation text strings.\n",
        "\n",
        "    # Returns\n",
        "        x_train, x_val, word_index: vectorized training and validation\n",
        "            texts and word index dictionary.\n",
        "    \"\"\"\n",
        "\n",
        "    # Vectorize training and validation texts.\n",
        "    x_train = tokenizer.texts_to_sequences(train_texts)\n",
        "    x_val = tokenizer.texts_to_sequences(val_texts)\n",
        "\n",
        "    # Get max sequence length.\n",
        "#     max_length = len(max(x_train, key=len))\n",
        "#     if max_length > MAX_SEQUENCE_LENGTH:\n",
        "#         max_length = MAX_SEQUENCE_LENGTH\n",
        "\n",
        "    # Fix sequence length to max value. Sequences shorter than the length are\n",
        "    # padded in the beginning and sequences longer are truncated\n",
        "    # at the beginning.\n",
        "    x_train = sequence.pad_sequences(x_train, maxlen=max_length)\n",
        "    x_val = sequence.pad_sequences(x_val, maxlen=max_length)\n",
        "    return x_train, x_val, tokenizer.word_index"
      ],
      "execution_count": 0,
      "outputs": []
    },
    {
      "cell_type": "code",
      "metadata": {
        "id": "2fLSV6D8hF9t",
        "colab_type": "code",
        "colab": {}
      },
      "source": [
        "datasetlen = len(train_texts)\n",
        "train_df = train_df.sample(frac=1) #Shuffle rows\n",
        "\n",
        "a_df = train_df[:int(datasetlen*0.8)]\n",
        "b_df = train_df[int(datasetlen*0.2):]\n",
        "\n",
        "train_texts = a_df['title'].tolist()\n",
        "val_texts = b_df['title'].tolist()"
      ],
      "execution_count": 0,
      "outputs": []
    },
    {
      "cell_type": "markdown",
      "metadata": {
        "id": "RiJKivsDhGTt",
        "colab_type": "text"
      },
      "source": [
        "**Label vectorization**\n",
        "\n",
        "We saw how to convert sample text data into numerical vectors. A similar process must be applied to the labels. We can simply convert labels into values in range [0, num_classes - 1]. For example, if there are 3 classes we can just use values 0, 1 and 2 to represent them. Internally, the network will use one-hot vectors to represent these values (to avoid inferring an incorrect relationship between labels). This representation depends on the loss function and the last- layer activation function we use in our neural network. We will learn more about these in the next section."
      ]
    },
    {
      "cell_type": "code",
      "metadata": {
        "id": "9-fzwC95gsII",
        "colab_type": "code",
        "colab": {}
      },
      "source": [
        "#No need to do this since our data is already in the form of numerical vectors\n",
        "train_labels = np.array(a_df['Category'].tolist())\n",
        "val_labels = np.array(b_df['Category'].tolist())"
      ],
      "execution_count": 0,
      "outputs": []
    },
    {
      "cell_type": "markdown",
      "metadata": {
        "id": "9OKAUF7kjUut",
        "colab_type": "text"
      },
      "source": [
        "## 4. Build, Train, and Evaluate Your Model"
      ]
    },
    {
      "cell_type": "code",
      "metadata": {
        "id": "wXXFGzLCjbtO",
        "colab_type": "code",
        "colab": {}
      },
      "source": [
        "def _get_last_layer_units_and_activation(num_classes):\n",
        "    \"\"\"Gets the # units and activation function for the last network layer.\n",
        "\n",
        "    # Arguments\n",
        "        num_classes: int, number of classes.\n",
        "\n",
        "    # Returns\n",
        "        units, activation values.\n",
        "    \"\"\"\n",
        "    if num_classes == 2:\n",
        "        activation = 'sigmoid'\n",
        "        units = 1\n",
        "    else:\n",
        "        activation = 'softmax'\n",
        "        units = num_classes\n",
        "    return units, activation"
      ],
      "execution_count": 0,
      "outputs": []
    },
    {
      "cell_type": "markdown",
      "metadata": {
        "id": "ZzIpZsZnFvrl",
        "colab_type": "text"
      },
      "source": [
        "**LOAD_GLOVE_EMBEDDINGS** \n",
        "\n",
        "---\n",
        "\n"
      ]
    },
    {
      "cell_type": "code",
      "metadata": {
        "id": "yj3IihCoFrxF",
        "colab_type": "code",
        "colab": {}
      },
      "source": [
        "import numpy as np\n",
        "\n",
        "\n",
        "def load_glove_embeddings(fp, embedding_dim, include_empty_char=True):\n",
        "    \"\"\"\n",
        "    Loads pre-trained word embeddings (GloVe embeddings)\n",
        "        Inputs: - fp: filepath of pre-trained glove embeddings\n",
        "                - embedding_dim: dimension of each vector embedding\n",
        "                - generate_matrix: whether to generate an embedding matrix\n",
        "        Outputs:\n",
        "                - word2coefs: Dictionary. Word to its corresponding coefficients\n",
        "                - word2index: Dictionary. Word to word-index\n",
        "                - embedding_matrix: Embedding matrix for Keras Embedding layer\n",
        "    \"\"\"\n",
        "    # First, build the \"word2coefs\" and \"word2index\"\n",
        "    word2coefs = {} # word to its corresponding coefficients\n",
        "    word2index = {} # word to word-index\n",
        "    with open(fp) as f:\n",
        "        for idx, line in enumerate(f):\n",
        "            try:\n",
        "                data = [x.strip().lower() for x in line.split()]\n",
        "                word = data[0]\n",
        "                coefs = np.asarray(data[1:embedding_dim+1], dtype='float32')\n",
        "                word2coefs[word] = coefs\n",
        "                if word not in word2index:\n",
        "                    word2index[word] = len(word2index)\n",
        "            except Exception as e:\n",
        "                print('Exception occurred in `load_glove_embeddings`:', e)\n",
        "                continue\n",
        "        # End of for loop.\n",
        "    # End of with open\n",
        "    if include_empty_char:\n",
        "        word2index[''] = len(word2index)\n",
        "    # Second, build the \"embedding_matrix\"\n",
        "    # Words not found in embedding index will be all-zeros. Hence, the \"+1\".\n",
        "    vocab_size = len(word2coefs)+1 if include_empty_char else len(word2coefs)\n",
        "    embedding_matrix = np.zeros((vocab_size, embedding_dim))\n",
        "    for word, idx in word2index.items():\n",
        "        embedding_vec = word2coefs.get(word)\n",
        "        if embedding_vec is not None and embedding_vec.shape[0]==embedding_dim:\n",
        "            embedding_matrix[idx] = np.asarray(embedding_vec)\n",
        "    # return word2coefs, word2index, embedding_matrix\n",
        "    return word2index, np.asarray(embedding_matrix)"
      ],
      "execution_count": 0,
      "outputs": []
    },
    {
      "cell_type": "code",
      "metadata": {
        "id": "YSgxwCcJjgJ_",
        "colab_type": "code",
        "colab": {}
      },
      "source": [
        "#The following code constructs a four-layer sepCNN model:\n",
        "from tensorflow.python.keras import models\n",
        "from tensorflow.python.keras import initializers\n",
        "from tensorflow.python.keras import regularizers\n",
        "\n",
        "from tensorflow.python.keras.layers import Dense\n",
        "from tensorflow.python.keras.layers import Dropout\n",
        "from tensorflow.python.keras.layers import Embedding\n",
        "from tensorflow.python.keras.layers import SeparableConv1D\n",
        "from tensorflow.python.keras.layers import MaxPooling1D\n",
        "from tensorflow.python.keras.layers import GlobalAveragePooling1D\n",
        "from tensorflow.python.keras.layers.normalization import BatchNormalization\n",
        "from tensorflow.python.keras.layers import Activation\n",
        "from tensorflow import keras\n",
        "\n",
        "#from google.colab import drive\n",
        "#drive.mount('/gdrive')\n",
        "\n",
        "# import glove embeddings\n",
        "\n",
        "#word2index, embedding_matrix = load_glove_embeddings('/gdrive/My Drive/Copy of NDSC_Free_100d.txt', embedding_dim=100)\n",
        "# End import\n",
        "\n",
        "\n",
        "# from tensorflow.python.keras.layers import Bidirectional, CuDNNGRU\n",
        "\n",
        "def sepcnn_model(blocks,\n",
        "                 filters,\n",
        "                 kernel_size,\n",
        "                 embedding_dim,\n",
        "                 dropout_rate,\n",
        "                 pool_size,\n",
        "                 input_shape,\n",
        "                 num_classes,\n",
        "                 num_features,\n",
        "                 use_pretrained_embedding=False,\n",
        "                 is_embedding_trainable=False,\n",
        "                 embedding_matrix=None):\n",
        "    \"\"\"Creates an instance of a separable CNN model.\n",
        "\n",
        "    # Arguments\n",
        "        blocks: int, number of pairs of sepCNN and pooling blocks in the model.\n",
        "        filters: int, output dimension of the layers.\n",
        "        kernel_size: int, length of the convolution window.\n",
        "        embedding_dim: int, dimension of the embedding vectors.\n",
        "        dropout_rate: float, percentage of input to drop at Dropout layers.\n",
        "        pool_size: int, factor by which to downscale input at MaxPooling layer.\n",
        "        input_shape: tuple, shape of input to the model.\n",
        "        num_classes: int, number of output classes.\n",
        "        num_features: int, number of words (embedding input dimension).\n",
        "        use_pretrained_embedding: bool, true if pre-trained embedding is on.\n",
        "        is_embedding_trainable: bool, true if embedding layer is trainable.\n",
        "        embedding_matrix: dict, dictionary with embedding coefficients.\n",
        "\n",
        "    # Returns\n",
        "        A sepCNN model instance.\n",
        "    \"\"\"\n",
        "    op_units, op_activation = _get_last_layer_units_and_activation(num_classes)\n",
        "    model = models.Sequential()\n",
        "\n",
        "    # Add embedding layer. If pre-trained embedding is used add weights to the\n",
        "    # embeddings layer and set trainable to input is_embedding_trainable flag.\n",
        "    if use_pretrained_embedding:\n",
        "        model.add(Embedding(input_dim=embedding_matrix.shape[0],\n",
        "                            output_dim=embedding_matrix.shape[1],\n",
        "                            input_length=max_length,\n",
        "                            weights=[embedding_matrix],\n",
        "                            trainable=False))\n",
        "    else:\n",
        "        model.add(Embedding(input_dim=num_features,\n",
        "                            output_dim=embedding_dim,\n",
        "                            input_length=input_shape[0]))\n",
        "    if blocks >= 1:\n",
        "      for _ in range(blocks-1):\n",
        "         # Model depth changes with var blocks\n",
        "          model.add(Dropout(rate=dropout_rate))\n",
        "          model.add(SeparableConv1D(filters=filters,\n",
        "                                    kernel_size=kernel_size,\n",
        "                                    activation='relu',\n",
        "                                    bias_initializer='random_uniform',\n",
        "                                    depthwise_initializer='random_uniform',\n",
        "                                    padding='same'))\n",
        "          model.add(SeparableConv1D(filters=filters,\n",
        "                                    kernel_size=kernel_size,\n",
        "                                    activation='relu',\n",
        "                                    bias_initializer='random_uniform',\n",
        "                                    depthwise_initializer='random_uniform',\n",
        "                                    padding='same'))\n",
        "          model.add(MaxPooling1D(pool_size=pool_size))\n",
        "\n",
        "      model.add(SeparableConv1D(filters=filters * 2,\n",
        "                                kernel_size=kernel_size,\n",
        "  #                               activation='relu',\n",
        "                                bias_initializer='random_uniform',\n",
        "                                depthwise_initializer='random_uniform',\n",
        "                                kernel_regularizer=keras.regularizers.l2(0.001),\n",
        "                                padding='same'))\n",
        "      model.add(BatchNormalization())\n",
        "      model.add(Activation('relu'))\n",
        "      model.add(SeparableConv1D(filters=filters * 2,\n",
        "                                kernel_size=kernel_size,\n",
        "  #                               activation='relu',\n",
        "                                bias_initializer='random_uniform',\n",
        "                                depthwise_initializer='random_uniform',\n",
        "                                kernel_regularizer=keras.regularizers.l2(0.001),\n",
        "                                padding='same'))\n",
        "      model.add(BatchNormalization())\n",
        "      model.add(Activation('relu'))\n",
        "      model.add(GlobalAveragePooling1D())\n",
        "      model.add(Dropout(rate=dropout_rate))\n",
        "      model.add(Dense(op_units, activation=op_activation))\n",
        "    \n",
        "    # Enable blocks = 0.5\n",
        "    elif blocks == 0.5:\n",
        "      model.add(SeparableConv1D(filters=filters * 2,\n",
        "                                kernel_size=kernel_size,\n",
        "  #                               activation='relu',\n",
        "                                bias_initializer='random_uniform',\n",
        "                                depthwise_initializer='random_uniform',\n",
        "                                kernel_regularizer=keras.regularizers.l2(0.001),\n",
        "                                padding='same'))\n",
        "      model.add(BatchNormalization())\n",
        "      model.add(Activation('relu'))\n",
        "      model.add(GlobalAveragePooling1D())\n",
        "      model.add(Dropout(rate=dropout_rate))\n",
        "      model.add(Dense(op_units, activation=op_activation))\n",
        "      \n",
        "    return model"
      ],
      "execution_count": 0,
      "outputs": []
    },
    {
      "cell_type": "markdown",
      "metadata": {
        "id": "LWnpuRRTmwW2",
        "colab_type": "text"
      },
      "source": [
        "## 4.5 Train Model"
      ]
    },
    {
      "cell_type": "code",
      "metadata": {
        "id": "s7EqfxyPMeOX",
        "colab_type": "code",
        "colab": {}
      },
      "source": [
        "import os\n",
        "\n",
        "def _load_and_shuffle_data(data_path,\n",
        "                           file_name,\n",
        "                           seed):\n",
        "    \"\"\"Loads and shuffles the dataset using pandas.\n",
        "    # Arguments\n",
        "        data_path: string, path to the data directory.\n",
        "        file_name: string, name of the data file.\n",
        "        cols: list, columns to load from the data file.\n",
        "        seed: int, seed for randomizer.\n",
        "        separator: string, separator to use for splitting data.\n",
        "        header: int, row to use as data header.\n",
        "    \"\"\"\n",
        "    np.random.seed(seed)\n",
        "    data_path = os.path.join(data_path, file_name)\n",
        "    data = pd.read_csv(data_path)\n",
        "    return data.reindex(np.random.permutation(data.index))\n",
        "\n",
        "def _split_training_and_validation_sets(texts, labels, validation_split):\n",
        "    \"\"\"Splits the texts and labels into training and validation sets.\n",
        "    # Arguments\n",
        "        texts: list, text data.\n",
        "        labels: list, label data.\n",
        "        validation_split: float, percentage of data to use for validation.\n",
        "    # Returns\n",
        "        A tuple of training and validation data.\n",
        "    \"\"\"\n",
        "    num_training_samples = int((1 - validation_split) * len(texts))\n",
        "    return ((texts[:num_training_samples], labels[:num_training_samples]),\n",
        "            (texts[num_training_samples:], labels[num_training_samples:]))  \n",
        "  \n",
        "# Replaces load_data and loads our title data instead.\n",
        "\n",
        "def load_nsdc_dataset(data_path, validation_split=0.2, seed=123):\n",
        "    \"\"\"Loads the shopee nsdc basic classification challenge dataset.\n",
        "    # Arguments\n",
        "        data_path: string, path to the data directory.\n",
        "        validation_split: float, percentage of data to use for validation.\n",
        "        seed: int, seed for randomizer.\n",
        "    # Returns\n",
        "        A tuple of training and validation data.\n",
        "        Number of training samples: 124848\n",
        "        Number of test samples: 31212\n",
        "        Number of categories: 5 (0 - negative, 1 - somewhat negative,\n",
        "                2 - neutral, 3 - somewhat positive, 4 - positive)\n",
        "    \"\"\"\n",
        "    columns = (1, 2)  # 2 - Phrases, 3 - Sentiment.\n",
        "    data = _load_and_shuffle_data(data_path, 'train.csv', seed)\n",
        "\n",
        "    # Get the review phrase and sentiment values.\n",
        "    texts = list(data['title'])\n",
        "    labels = np.array(data['Category'])\n",
        "    return _split_training_and_validation_sets(texts, labels, validation_split)\n"
      ],
      "execution_count": 0,
      "outputs": []
    },
    {
      "cell_type": "code",
      "metadata": {
        "id": "mLqbAriBYB4Q",
        "colab_type": "code",
        "colab": {}
      },
      "source": [
        "data_path = './ndsc-beginner/'\n",
        "data = load_nsdc_dataset(data_path, validation_split=0.2, seed=123)\n",
        "test_df = pd.read_csv(\"./ndsc-beginner/test.csv\") \n",
        "test_texts = list(test_df['title'])"
      ],
      "execution_count": 0,
      "outputs": []
    },
    {
      "cell_type": "markdown",
      "metadata": {
        "id": "_Xm4ysJ4XCcy",
        "colab_type": "text"
      },
      "source": [
        "# Adjust Hyperparameter Values Here"
      ]
    },
    {
      "cell_type": "code",
      "metadata": {
        "id": "0Uz2IW2iWzcj",
        "colab_type": "code",
        "colab": {}
      },
      "source": [
        "# Limit on the number of words to considered for word vectorization\n",
        "TOP_K = 10000\n",
        "\n",
        "#Hyperparams\n",
        "learning_rate=5e-1\n",
        "#This is the minimum learn rate value allowed despite ReduceLearningRateonPlateau\n",
        "min_lr = 0.0000001\n",
        "lr_factor = 0.2\n",
        "patience = 5\n",
        "\n",
        "epochs=40\n",
        "batch_size=64\n",
        "blocks=1\n",
        "filters=128\n",
        "dropout_rate=0.3\n",
        "embedding_dim=100\n",
        "kernel_size=9\n",
        "pool_size=3"
      ],
      "execution_count": 0,
      "outputs": []
    },
    {
      "cell_type": "code",
      "metadata": {
        "id": "GDub2XoPk7Qr",
        "colab_type": "code",
        "outputId": "178a4efa-113f-4434-c006-71d02b0f904a",
        "colab": {
          "base_uri": "https://localhost:8080/",
          "height": 70
        }
      },
      "source": [
        "\"\"\"\n",
        "Vectorizes training and validation texts into sequences and uses that for\n",
        "training a sequence model - a sepCNN model. We use sequence model for text\n",
        "classification when the ratio of number of samples to number of words per\n",
        "sample for the given dataset is very large (>~15K).\n",
        "\"\"\"\n",
        "from __future__ import absolute_import\n",
        "from __future__ import division\n",
        "from __future__ import print_function\n",
        "\n",
        "import argparse\n",
        "import time\n",
        "\n",
        "import tensorflow as tf\n",
        "import numpy as np\n",
        "\n",
        "# import build_model\n",
        "# import load_data\n",
        "# import vectorize_data\n",
        "# import explore_data\n",
        "\n",
        "FLAGS = None\n",
        "\n",
        "\"\"\"Trains sequence model on the given dataset.\n",
        "# Arguments\n",
        "    data: tuples of training and test texts and labels.\n",
        "    learning_rate: float, learning rate for training model.\n",
        "    epochs: int, number of epochs.\n",
        "    batch_size: int, number of samples per batch.\n",
        "    blocks: int, number of pairs of sepCNN and pooling blocks in the model.\n",
        "    filters: int, output dimension of sepCNN layers in the model.\n",
        "    dropout_rate: float: percentage of input to drop at Dropout layers.\n",
        "    embedding_dim: int, dimension of the embedding vectors.\n",
        "    kernel_size: int, length of the convolution window.\n",
        "    pool_size: int, factor by which to downscale input at MaxPooling layer.\n",
        "# Raises\n",
        "    ValueError: If validation data has label values which were not seen\n",
        "        in the training data.\n",
        "\"\"\"\n",
        "# Get the data.\n",
        "(train_texts, train_labels), (val_texts, val_labels) = data\n",
        "\n",
        "# Verify that validation labels are in the same range as training labels.\n",
        "# num_classes = explore_data.get_num_classes(train_labels)\n",
        "num_classes = 58\n",
        "unexpected_labels = [v for v in val_labels if v not in range(num_classes)]\n",
        "if len(unexpected_labels):\n",
        "    raise ValueError('Unexpected label values found in the validation set:'\n",
        "                     ' {unexpected_labels}. Please make sure that the '\n",
        "                     'labels in the validation set are in the same range '\n",
        "                     'as training labels.'.format(\n",
        "                         unexpected_labels=unexpected_labels))\n",
        "\n",
        "# Vectorize texts.\n",
        "#   x_train, x_val, word_index = vectorize_data.sequence_vectorize(\n",
        "#           train_texts, val_texts)\n",
        "all_texts = train_texts + test_texts\n",
        "print(all_texts[0:9])\n",
        "train_tokenizer(all_texts)\n",
        "x_train, x_val, word_index = sequence_vectorize(train_texts, val_texts, 30)\n",
        "\n",
        "# Number of features will be the embedding input dimension. Add 1 for the\n",
        "# reserved index 0.\n",
        "num_features = min(len(word_index) + 1, TOP_K)\n",
        "print('num_features:{}'.format(num_features))"
      ],
      "execution_count": 0,
      "outputs": [
        {
          "output_type": "stream",
          "text": [
            "['osella off shoulder stripe brand matahari', 'wanita mini dress segar print o neck lengan pendek kasual longgar gadis summer', '5 g natural mica powder', 'ysl le cushion engraved name', 'make over camuflage cream face concealer', 'terbatas ultima ii wonderwear stay last liquid make up foundation', 'bestseller wet n and wild photofocus photo focus foundation peach natural', 'bedak ertos baked powder all in 1', 'makeup base liquid foundation longlasting waterproof moisturizer oil control']\n",
            "num_features:10000\n"
          ],
          "name": "stdout"
        }
      ]
    },
    {
      "cell_type": "code",
      "metadata": {
        "id": "1c4RNNMGDOSI",
        "colab_type": "code",
        "outputId": "5b091a93-2e6d-4020-c780-6f2162c123f8",
        "colab": {
          "base_uri": "https://localhost:8080/",
          "height": 53
        }
      },
      "source": [
        "!git clone https://github.com/titu1994/keras-adabound.git"
      ],
      "execution_count": 0,
      "outputs": [
        {
          "output_type": "stream",
          "text": [
            "fatal: destination path 'keras-adabound' already exists and is not an empty directory.\n"
          ],
          "name": "stdout"
        }
      ]
    },
    {
      "cell_type": "code",
      "metadata": {
        "id": "QokP_946fhlI",
        "colab_type": "code",
        "outputId": "f2eb1281-c4d5-4214-84b6-3ed131bb47a2",
        "colab": {
          "base_uri": "https://localhost:8080/",
          "height": 589
        }
      },
      "source": [
        "model = sepcnn_model(blocks=blocks,\n",
        "                     filters=filters,\n",
        "                     kernel_size=kernel_size,\n",
        "                     embedding_dim=embedding_dim,\n",
        "                     dropout_rate=dropout_rate,\n",
        "                     pool_size=pool_size,\n",
        "                     input_shape=x_train.shape[1:],\n",
        "                     num_classes=num_classes,\n",
        "                     num_features=num_features)\n",
        "\n",
        "# optimizer = tf.keras.optimizers.Adam(lr=learning_rate)\n",
        "optimizer = tf.keras.optimizers.SGD(lr=learning_rate)\n",
        "model.compile(optimizer=optimizer, loss = 'sparse_categorical_crossentropy', metrics=['acc'])\n",
        "model.summary()"
      ],
      "execution_count": 0,
      "outputs": [
        {
          "output_type": "stream",
          "text": [
            "WARNING:tensorflow:From /usr/local/lib/python3.6/dist-packages/tensorflow/python/ops/resource_variable_ops.py:435: colocate_with (from tensorflow.python.framework.ops) is deprecated and will be removed in a future version.\n",
            "Instructions for updating:\n",
            "Colocations handled automatically by placer.\n",
            "WARNING:tensorflow:From /usr/local/lib/python3.6/dist-packages/tensorflow/python/keras/layers/core.py:143: calling dropout (from tensorflow.python.ops.nn_ops) with keep_prob is deprecated and will be removed in a future version.\n",
            "Instructions for updating:\n",
            "Please use `rate` instead of `keep_prob`. Rate should be set to `rate = 1 - keep_prob`.\n",
            "_________________________________________________________________\n",
            "Layer (type)                 Output Shape              Param #   \n",
            "=================================================================\n",
            "embedding (Embedding)        (None, 30, 100)           1000000   \n",
            "_________________________________________________________________\n",
            "separable_conv1d (SeparableC (None, 30, 256)           26756     \n",
            "_________________________________________________________________\n",
            "batch_normalization_v1 (Batc (None, 30, 256)           1024      \n",
            "_________________________________________________________________\n",
            "activation (Activation)      (None, 30, 256)           0         \n",
            "_________________________________________________________________\n",
            "separable_conv1d_1 (Separabl (None, 30, 256)           68096     \n",
            "_________________________________________________________________\n",
            "batch_normalization_v1_1 (Ba (None, 30, 256)           1024      \n",
            "_________________________________________________________________\n",
            "activation_1 (Activation)    (None, 30, 256)           0         \n",
            "_________________________________________________________________\n",
            "global_average_pooling1d (Gl (None, 256)               0         \n",
            "_________________________________________________________________\n",
            "dropout (Dropout)            (None, 256)               0         \n",
            "_________________________________________________________________\n",
            "dense (Dense)                (None, 58)                14906     \n",
            "=================================================================\n",
            "Total params: 1,111,806\n",
            "Trainable params: 1,110,782\n",
            "Non-trainable params: 1,024\n",
            "_________________________________________________________________\n"
          ],
          "name": "stdout"
        }
      ]
    },
    {
      "cell_type": "code",
      "metadata": {
        "id": "NKDyy3qv5Dbt",
        "colab_type": "code",
        "colab": {}
      },
      "source": [
        "from tensorflow.keras.callbacks import *\n",
        "#Callbacks ring ring\n",
        "reduce_lr = ReduceLROnPlateau(monitor='val_loss', \n",
        "                              factor=lr_factor,\n",
        "                              patience=patience,\n",
        "                              verbose = 1,\n",
        "                              min_lr=min_lr)\n",
        "\n",
        "checkpoint = ModelCheckpoint('sepcnn_batchnorm', \n",
        "                             monitor='val_acc', \n",
        "                             verbose=1, \n",
        "                             save_best_only=True, \n",
        "                             save_weights_only=False, \n",
        "                             mode='auto', \n",
        "                             period=1)\n"
      ],
      "execution_count": 0,
      "outputs": []
    },
    {
      "cell_type": "code",
      "metadata": {
        "id": "GlQMcZaAfkpn",
        "colab_type": "code",
        "outputId": "4ee23b60-e65c-497c-b440-8b02ba7aeb04",
        "colab": {
          "base_uri": "https://localhost:8080/",
          "height": 2512
        }
      },
      "source": [
        "# Train and validate model.\n",
        "history = model.fit(\n",
        "        x_train,\n",
        "        train_labels,\n",
        "        epochs=epochs,\n",
        "        validation_data=(x_val, val_labels),\n",
        "        verbose=1,\n",
        "        batch_size=batch_size,\n",
        "        callbacks=[reduce_lr, checkpoint])\n"
      ],
      "execution_count": 0,
      "outputs": [
        {
          "output_type": "stream",
          "text": [
            "Train on 533292 samples, validate on 133323 samples\n",
            "WARNING:tensorflow:From /usr/local/lib/python3.6/dist-packages/tensorflow/python/ops/math_ops.py:3066: to_int32 (from tensorflow.python.ops.math_ops) is deprecated and will be removed in a future version.\n",
            "Instructions for updating:\n",
            "Use tf.cast instead.\n",
            "Epoch 1/40\n",
            "533248/533292 [============================>.] - ETA: 0s - loss: 1.1313 - acc: 0.6629\n",
            "Epoch 00001: val_acc improved from -inf to 0.69788, saving model to tzuchieh_sepcnn_batchnorm\n",
            "533292/533292 [==============================] - 98s 183us/sample - loss: 1.1312 - acc: 0.6629 - val_loss: 0.9721 - val_acc: 0.6979\n",
            "Epoch 2/40\n",
            "533184/533292 [============================>.] - ETA: 0s - loss: 0.9642 - acc: 0.7009\n",
            "Epoch 00002: val_acc improved from 0.69788 to 0.70862, saving model to tzuchieh_sepcnn_batchnorm\n",
            "533292/533292 [==============================] - 97s 182us/sample - loss: 0.9641 - acc: 0.7009 - val_loss: 0.9252 - val_acc: 0.7086\n",
            "Epoch 3/40\n",
            "532992/533292 [============================>.] - ETA: 0s - loss: 0.9215 - acc: 0.7099\n",
            "Epoch 00003: val_acc improved from 0.70862 to 0.71090, saving model to tzuchieh_sepcnn_batchnorm\n",
            "533292/533292 [==============================] - 96s 180us/sample - loss: 0.9215 - acc: 0.7099 - val_loss: 0.9136 - val_acc: 0.7109\n",
            "Epoch 4/40\n",
            "533184/533292 [============================>.] - ETA: 0s - loss: 0.8935 - acc: 0.7164\n",
            "Epoch 00004: val_acc improved from 0.71090 to 0.71245, saving model to tzuchieh_sepcnn_batchnorm\n",
            "533292/533292 [==============================] - 96s 180us/sample - loss: 0.8934 - acc: 0.7164 - val_loss: 0.9098 - val_acc: 0.7125\n",
            "Epoch 5/40\n",
            "533248/533292 [============================>.] - ETA: 0s - loss: 0.8722 - acc: 0.7215\n",
            "Epoch 00005: val_acc improved from 0.71245 to 0.71679, saving model to tzuchieh_sepcnn_batchnorm\n",
            "533292/533292 [==============================] - 97s 181us/sample - loss: 0.8722 - acc: 0.7215 - val_loss: 0.9013 - val_acc: 0.7168\n",
            "Epoch 6/40\n",
            "532992/533292 [============================>.] - ETA: 0s - loss: 0.8538 - acc: 0.7265\n",
            "Epoch 00006: val_acc improved from 0.71679 to 0.71936, saving model to tzuchieh_sepcnn_batchnorm\n",
            "533292/533292 [==============================] - 97s 182us/sample - loss: 0.8538 - acc: 0.7265 - val_loss: 0.8867 - val_acc: 0.7194\n",
            "Epoch 7/40\n",
            "533248/533292 [============================>.] - ETA: 0s - loss: 0.8379 - acc: 0.7303\n",
            "Epoch 00007: val_acc improved from 0.71936 to 0.72390, saving model to tzuchieh_sepcnn_batchnorm\n",
            "533292/533292 [==============================] - 95s 178us/sample - loss: 0.8379 - acc: 0.7303 - val_loss: 0.8728 - val_acc: 0.7239\n",
            "Epoch 8/40\n",
            "533248/533292 [============================>.] - ETA: 0s - loss: 0.8249 - acc: 0.7332\n",
            "Epoch 00008: val_acc did not improve from 0.72390\n",
            "533292/533292 [==============================] - 96s 180us/sample - loss: 0.8249 - acc: 0.7332 - val_loss: 0.8656 - val_acc: 0.7237\n",
            "Epoch 9/40\n",
            "533248/533292 [============================>.] - ETA: 0s - loss: 0.8122 - acc: 0.7361\n",
            "Epoch 00009: val_acc improved from 0.72390 to 0.72652, saving model to tzuchieh_sepcnn_batchnorm\n",
            "533292/533292 [==============================] - 96s 180us/sample - loss: 0.8122 - acc: 0.7361 - val_loss: 0.8693 - val_acc: 0.7265\n",
            "Epoch 10/40\n",
            "533184/533292 [============================>.] - ETA: 0s - loss: 0.8005 - acc: 0.7396\n",
            "Epoch 00010: val_acc did not improve from 0.72652\n",
            "533292/533292 [==============================] - 96s 179us/sample - loss: 0.8005 - acc: 0.7396 - val_loss: 0.8625 - val_acc: 0.7262\n",
            "Epoch 11/40\n",
            "533056/533292 [============================>.] - ETA: 0s - loss: 0.7883 - acc: 0.7429\n",
            "Epoch 00011: val_acc did not improve from 0.72652\n",
            "533292/533292 [==============================] - 96s 180us/sample - loss: 0.7883 - acc: 0.7429 - val_loss: 0.8611 - val_acc: 0.7250\n",
            "Epoch 12/40\n",
            "532992/533292 [============================>.] - ETA: 0s - loss: 0.7783 - acc: 0.7449\n",
            "Epoch 00012: val_acc did not improve from 0.72652\n",
            "533292/533292 [==============================] - 96s 180us/sample - loss: 0.7783 - acc: 0.7450 - val_loss: 0.8676 - val_acc: 0.7260\n",
            "Epoch 13/40\n",
            "533184/533292 [============================>.] - ETA: 0s - loss: 0.7686 - acc: 0.7480\n",
            "Epoch 00013: val_acc improved from 0.72652 to 0.73034, saving model to tzuchieh_sepcnn_batchnorm\n",
            "533292/533292 [==============================] - 98s 184us/sample - loss: 0.7687 - acc: 0.7480 - val_loss: 0.8617 - val_acc: 0.7303\n",
            "Epoch 14/40\n",
            "533120/533292 [============================>.] - ETA: 0s - loss: 0.7603 - acc: 0.7499\n",
            "Epoch 00014: val_acc did not improve from 0.73034\n",
            "533292/533292 [==============================] - 96s 180us/sample - loss: 0.7602 - acc: 0.7500 - val_loss: 0.8658 - val_acc: 0.7291\n",
            "Epoch 15/40\n",
            "533056/533292 [============================>.] - ETA: 0s - loss: 0.7496 - acc: 0.7530\n",
            "Epoch 00015: val_acc did not improve from 0.73034\n",
            "533292/533292 [==============================] - 96s 180us/sample - loss: 0.7496 - acc: 0.7530 - val_loss: 0.8599 - val_acc: 0.7295\n",
            "Epoch 16/40\n",
            "533056/533292 [============================>.] - ETA: 0s - loss: 0.7407 - acc: 0.7553\n",
            "Epoch 00016: val_acc did not improve from 0.73034\n",
            "533292/533292 [==============================] - 96s 180us/sample - loss: 0.7407 - acc: 0.7553 - val_loss: 0.8640 - val_acc: 0.7299\n",
            "Epoch 17/40\n",
            "533248/533292 [============================>.] - ETA: 0s - loss: 0.7324 - acc: 0.7578\n",
            "Epoch 00017: val_acc did not improve from 0.73034\n",
            "533292/533292 [==============================] - 97s 182us/sample - loss: 0.7324 - acc: 0.7578 - val_loss: 0.8763 - val_acc: 0.7291\n",
            "Epoch 18/40\n",
            "533184/533292 [============================>.] - ETA: 0s - loss: 0.7243 - acc: 0.7598\n",
            "Epoch 00018: val_acc improved from 0.73034 to 0.73047, saving model to tzuchieh_sepcnn_batchnorm\n",
            "533292/533292 [==============================] - 97s 182us/sample - loss: 0.7243 - acc: 0.7598 - val_loss: 0.8811 - val_acc: 0.7305\n",
            "Epoch 19/40\n",
            "532992/533292 [============================>.] - ETA: 0s - loss: 0.7158 - acc: 0.7619\n",
            "Epoch 00019: val_acc did not improve from 0.73047\n",
            "533292/533292 [==============================] - 97s 182us/sample - loss: 0.7157 - acc: 0.7620 - val_loss: 0.8866 - val_acc: 0.7296\n",
            "Epoch 20/40\n",
            "533056/533292 [============================>.] - ETA: 0s - loss: 0.7075 - acc: 0.7644\n",
            "Epoch 00020: ReduceLROnPlateau reducing learning rate to 0.1.\n",
            "\n",
            "Epoch 00020: val_acc did not improve from 0.73047\n",
            "533292/533292 [==============================] - 103s 193us/sample - loss: 0.7076 - acc: 0.7644 - val_loss: 0.8671 - val_acc: 0.7305\n",
            "Epoch 21/40\n",
            "533056/533292 [============================>.] - ETA: 0s - loss: 0.6499 - acc: 0.7809\n",
            "Epoch 00021: val_acc improved from 0.73047 to 0.73717, saving model to tzuchieh_sepcnn_batchnorm\n",
            "533292/533292 [==============================] - 109s 204us/sample - loss: 0.6498 - acc: 0.7809 - val_loss: 0.8727 - val_acc: 0.7372\n",
            "Epoch 22/40\n",
            "533056/533292 [============================>.] - ETA: 0s - loss: 0.6374 - acc: 0.7842\n",
            "Epoch 00022: val_acc improved from 0.73717 to 0.73756, saving model to tzuchieh_sepcnn_batchnorm\n",
            "533292/533292 [==============================] - 97s 182us/sample - loss: 0.6374 - acc: 0.7842 - val_loss: 0.8858 - val_acc: 0.7376\n",
            "Epoch 23/40\n",
            "533184/533292 [============================>.] - ETA: 0s - loss: 0.6304 - acc: 0.7860\n",
            "Epoch 00023: val_acc did not improve from 0.73756\n",
            "533292/533292 [==============================] - 96s 180us/sample - loss: 0.6304 - acc: 0.7860 - val_loss: 0.9007 - val_acc: 0.7374\n",
            "Epoch 24/40\n",
            "533248/533292 [============================>.] - ETA: 0s - loss: 0.6253 - acc: 0.7879\n",
            "Epoch 00024: val_acc did not improve from 0.73756\n",
            "533292/533292 [==============================] - 97s 181us/sample - loss: 0.6253 - acc: 0.7879 - val_loss: 0.8993 - val_acc: 0.7372\n",
            "Epoch 25/40\n",
            "533056/533292 [============================>.] - ETA: 0s - loss: 0.6210 - acc: 0.7890\n",
            "Epoch 00025: ReduceLROnPlateau reducing learning rate to 0.020000000298023225.\n",
            "\n",
            "Epoch 00025: val_acc did not improve from 0.73756\n",
            "533292/533292 [==============================] - 96s 180us/sample - loss: 0.6210 - acc: 0.7890 - val_loss: 0.8979 - val_acc: 0.7370\n",
            "Epoch 26/40\n",
            "533248/533292 [============================>.] - ETA: 0s - loss: 0.6009 - acc: 0.7953\n",
            "Epoch 00026: val_acc improved from 0.73756 to 0.73800, saving model to tzuchieh_sepcnn_batchnorm\n",
            "533292/533292 [==============================] - 96s 180us/sample - loss: 0.6009 - acc: 0.7953 - val_loss: 0.8985 - val_acc: 0.7380\n",
            "Epoch 27/40\n",
            "533120/533292 [============================>.] - ETA: 0s - loss: 0.5980 - acc: 0.7958\n",
            "Epoch 00027: val_acc improved from 0.73800 to 0.73817, saving model to tzuchieh_sepcnn_batchnorm\n",
            "533292/533292 [==============================] - 97s 182us/sample - loss: 0.5980 - acc: 0.7958 - val_loss: 0.8978 - val_acc: 0.7382\n",
            "Epoch 28/40\n",
            "533056/533292 [============================>.] - ETA: 0s - loss: 0.5961 - acc: 0.7967\n",
            "Epoch 00028: val_acc did not improve from 0.73817\n",
            "533292/533292 [==============================] - 96s 180us/sample - loss: 0.5961 - acc: 0.7967 - val_loss: 0.9061 - val_acc: 0.7381\n",
            "Epoch 29/40\n",
            "533056/533292 [============================>.] - ETA: 0s - loss: 0.5937 - acc: 0.7968\n",
            "Epoch 00029: val_acc did not improve from 0.73817\n",
            "533292/533292 [==============================] - 104s 195us/sample - loss: 0.5937 - acc: 0.7968 - val_loss: 0.9135 - val_acc: 0.7378\n",
            "Epoch 30/40\n",
            "533120/533292 [============================>.] - ETA: 0s - loss: 0.5926 - acc: 0.7970\n",
            "Epoch 00030: ReduceLROnPlateau reducing learning rate to 0.003999999910593033.\n",
            "\n",
            "Epoch 00030: val_acc did not improve from 0.73817\n",
            "533292/533292 [==============================] - 109s 205us/sample - loss: 0.5926 - acc: 0.7970 - val_loss: 0.9126 - val_acc: 0.7380\n",
            "Epoch 31/40\n",
            "533184/533292 [============================>.] - ETA: 0s - loss: 0.5875 - acc: 0.7992\n",
            "Epoch 00031: val_acc did not improve from 0.73817\n",
            "533292/533292 [==============================] - 99s 185us/sample - loss: 0.5875 - acc: 0.7992 - val_loss: 0.9119 - val_acc: 0.7379\n",
            "Epoch 32/40\n",
            "532992/533292 [============================>.] - ETA: 0s - loss: 0.5869 - acc: 0.7989\n",
            "Epoch 00032: val_acc did not improve from 0.73817\n",
            "533292/533292 [==============================] - 99s 186us/sample - loss: 0.5870 - acc: 0.7989 - val_loss: 0.9124 - val_acc: 0.7378\n",
            "Epoch 33/40\n",
            "533184/533292 [============================>.] - ETA: 0s - loss: 0.5862 - acc: 0.7995\n",
            "Epoch 00033: val_acc improved from 0.73817 to 0.73842, saving model to tzuchieh_sepcnn_batchnorm\n",
            "533292/533292 [==============================] - 96s 179us/sample - loss: 0.5862 - acc: 0.7995 - val_loss: 0.9112 - val_acc: 0.7384\n",
            "Epoch 34/40\n",
            "532992/533292 [============================>.] - ETA: 0s - loss: 0.5863 - acc: 0.7992\n",
            "Epoch 00034: val_acc did not improve from 0.73842\n",
            "533292/533292 [==============================] - 99s 186us/sample - loss: 0.5863 - acc: 0.7992 - val_loss: 0.9136 - val_acc: 0.7380\n",
            "Epoch 35/40\n",
            "388672/533292 [====================>.........] - ETA: 27s - loss: 0.5850 - acc: 0.8004Buffered data was truncated after reaching the output size limit."
          ],
          "name": "stdout"
        }
      ]
    },
    {
      "cell_type": "markdown",
      "metadata": {
        "id": "0fyJggXmiGG9",
        "colab_type": "text"
      },
      "source": [
        "After running the model for some time, look through the epochs and identify the epoch with the best validation_accuracy. Copy and paste the epoch line into the google sheet. Thanks!"
      ]
    },
    {
      "cell_type": "code",
      "metadata": {
        "id": "C6nlUEnmfyEC",
        "colab_type": "code",
        "outputId": "d899ff70-5ba8-4c16-b48b-4ec53cf3d1cf",
        "colab": {
          "base_uri": "https://localhost:8080/",
          "height": 33
        }
      },
      "source": [
        "# Print results.\n",
        "history = history.history\n",
        "print('Validation accuracy: {acc}, loss: {loss}'.format(acc=history['val_acc'][-1], loss=history['val_loss'][-1]))"
      ],
      "execution_count": 0,
      "outputs": [
        {
          "output_type": "stream",
          "text": [
            "Validation accuracy: 0.7381697297096252, loss: 0.9169268518741954\n"
          ],
          "name": "stdout"
        }
      ]
    },
    {
      "cell_type": "code",
      "metadata": {
        "id": "ggI3Yho4qqAA",
        "colab_type": "code",
        "colab": {}
      },
      "source": [
        "# If the model is good, save the model to file, then download it!\n",
        "model.save('sepcnn_wbatchnorm_model.h5')\n",
        "# return history['val_acc'][-1], history['val_loss'][-1]"
      ],
      "execution_count": 0,
      "outputs": []
    },
    {
      "cell_type": "code",
      "metadata": {
        "id": "-CWfoItDCVh6",
        "colab_type": "code",
        "colab": {}
      },
      "source": [
        "# from sklearn.linear_model import LogisticRegression\n",
        "\n",
        "# classifier = LogisticRegression()\n",
        "# classifier.fit(x_train, train_labels)\n",
        "# score = classifier.score(x_val, val_labels)\n",
        "\n",
        "# print(\"Accuracy:\", score)"
      ],
      "execution_count": 0,
      "outputs": []
    },
    {
      "cell_type": "markdown",
      "metadata": {
        "id": "V8fJfZmptp3Y",
        "colab_type": "text"
      },
      "source": [
        ""
      ]
    },
    {
      "cell_type": "code",
      "metadata": {
        "id": "65kl5MwutqMx",
        "colab_type": "code",
        "colab": {}
      },
      "source": [
        "model.save('my_model.h5')"
      ],
      "execution_count": 0,
      "outputs": []
    },
    {
      "cell_type": "markdown",
      "metadata": {
        "id": "4K4Lf30GgGXr",
        "colab_type": "text"
      },
      "source": [
        "## Make Inferences\n",
        "\n",
        "With the model fit, we can now use it to make inferences on our actual test data which we do not have labels for.\n",
        "\n",
        "We then save the predicted classes for each title in csv format."
      ]
    },
    {
      "cell_type": "code",
      "metadata": {
        "id": "b7A5YjHXvUet",
        "colab_type": "code",
        "colab": {}
      },
      "source": [
        "#We can ignore x_trash\n",
        "x_test, x_trash, word_index = sequence_vectorize(test_df['title'], ['hi']*len(test_df['title']), 30)"
      ],
      "execution_count": 0,
      "outputs": []
    },
    {
      "cell_type": "code",
      "metadata": {
        "id": "x0jc1UX4RUVq",
        "colab_type": "code",
        "outputId": "7babb37b-7bae-48a3-91b3-6720e2fc641f",
        "colab": {
          "base_uri": "https://localhost:8080/",
          "height": 117
        }
      },
      "source": [
        "print(x_test[1:3])"
      ],
      "execution_count": 0,
      "outputs": [
        {
          "output_type": "stream",
          "text": [
            "[[   0    0    0    0    0    0    0    0    0    0    0    0    0    0\n",
            "     0    0    0    0    0    0  129  344  314  287  147  371   29    3\n",
            "    61  627]\n",
            " [   0    0    0    0    0    0    0    0    0    0    0    0    0    0\n",
            "     0    0    0    0    0   26  237 1711   77  432  619   29    3 2356\n",
            "   122 1285]]\n"
          ],
          "name": "stdout"
        }
      ]
    },
    {
      "cell_type": "code",
      "metadata": {
        "id": "SMUmIteKiVqb",
        "colab_type": "code",
        "colab": {}
      },
      "source": [
        "test_preds = model.predict(x_test)\n",
        "yeet = [np.argmax(pred) for pred in test_preds]\n",
        "\n",
        "submit_df = pd.DataFrame({\"itemid\": test_df[\"itemid\"], \"Category\": yeet})\n",
        "submit_df.to_csv(\"google_ndsc_sepcnn_wbatchnorm.csv\", index=False)"
      ],
      "execution_count": 0,
      "outputs": []
    },
    {
      "cell_type": "code",
      "metadata": {
        "id": "tIIYLFHGix5J",
        "colab_type": "code",
        "outputId": "43297f23-171a-45d2-aec2-2e557ef61179",
        "colab": {
          "base_uri": "https://localhost:8080/",
          "height": 117
        }
      },
      "source": [
        "print(submit_df.head())"
      ],
      "execution_count": 0,
      "outputs": [
        {
          "output_type": "stream",
          "text": [
            "   Category      itemid\n",
            "0         5   370855998\n",
            "1         5   637234604\n",
            "2         5   690282890\n",
            "3         5   930913462\n",
            "4         5  1039280071\n"
          ],
          "name": "stdout"
        }
      ]
    },
    {
      "cell_type": "markdown",
      "metadata": {
        "id": "WypWDqnClCmB",
        "colab_type": "text"
      },
      "source": [
        "## Look at Predictions/Data"
      ]
    },
    {
      "cell_type": "code",
      "metadata": {
        "id": "XiOIf80slGc7",
        "colab_type": "code",
        "outputId": "4cfb86c9-4260-4850-f723-7db7d945352d",
        "colab": {
          "base_uri": "https://localhost:8080/",
          "height": 423
        }
      },
      "source": [
        "from collections import Counter\n",
        "x = list(range(0, 58))\n",
        "print(x)\n",
        "\n",
        "#Spaghetti Line (aglio olio flavored)\n",
        "ClassifierFrequency = [x[1] for x in np.array(sorted(Counter(yeet).items()))]\n",
        "#Haxx cause our classifier didn't predict a class 57\n",
        "# ClassifierFrequency.append(-1)\n",
        "print(ClassifierFrequency)\n",
        "\n",
        "#Also plot frequency of each cat meow (this is bolognese)\n",
        "Ground_Truth_Freq = [x[1] for x in sorted(Counter(train_labels.tolist()).items())]\n",
        "\n",
        "print(Ground_Truth_Freq)\n",
        "\n",
        "#Plot em\n",
        "plt.plot(x,ClassifierFrequency,Ground_Truth_Freq)\n",
        "#Add Legend\n",
        "plt.gca().legend(('ClassifierFrequency','Ground_Truth_Freq'))\n",
        "plt.yscale(\"log\")\n",
        "\n",
        "#Show em\n",
        "plt.show()\n",
        "\n",
        "#Save a this plot for future reference and comparison\n",
        "#Right Click > Save Image As...\n",
        "#Change filename to biLSTMbal01"
      ],
      "execution_count": 0,
      "outputs": [
        {
          "output_type": "stream",
          "text": [
            "[0, 1, 2, 3, 4, 5, 6, 7, 8, 9, 10, 11, 12, 13, 14, 15, 16, 17, 18, 19, 20, 21, 22, 23, 24, 25, 26, 27, 28, 29, 30, 31, 32, 33, 34, 35, 36, 37, 38, 39, 40, 41, 42, 43, 44, 45, 46, 47, 48, 49, 50, 51, 52, 53, 54, 55, 56, 57]\n",
            "[210, 598, 300, 1919, 1840, 2193, 11, 304, 87, 152, 15, 28, 55208, 6431, 3759, 683, 2790, 189, 2692, 128, 321, 118, 213, 13, 97, 19051, 20276, 6963, 3161, 2020, 209, 7173, 7857, 1289, 3753, 5985, 277, 614, 1332, 195, 109, 5147, 2966, 1747, 254, 540, 210, 230, 134, 130, 69, 137, 23, 97, 79, 35, 29, 12]\n",
            "[3017, 22880, 9252, 64782, 34211, 44221, 1619, 9304, 4884, 6446, 851, 3296, 17335, 2399, 2155, 482, 1771, 2206, 45211, 10834, 15889, 8414, 12269, 1330, 3404, 27298, 27234, 12949, 5200, 2673, 1148, 22174, 23800, 3879, 11731, 24512, 827, 1812, 3784, 555, 263, 15541, 8393, 4937, 757, 1742, 549, 753, 326, 463, 227, 308, 100, 340, 248, 123, 145, 39]\n"
          ],
          "name": "stdout"
        },
        {
          "output_type": "display_data",
          "data": {
            "image/png": "[encoded data removed]",
            "text/plain": [
              "<Figure size 576x396 with 1 Axes>"
            ]
          },
          "metadata": {
            "tags": []
          }
        }
      ]
    },
    {
      "cell_type": "markdown",
      "metadata": {
        "id": "TUSs2bTml2UN",
        "colab_type": "text"
      },
      "source": [
        "## 5: Tune Hyperparameters\n",
        "We had to choose a number of hyperparameters for defining and training the model. We relied on intuition, examples and best practice recommendations. Our first choice of hyperparameter values, however, may not yield the best results. It only gives us a good starting point for training. Every problem is different and tuning these hyperparameters will help refine our model to better represent the particularities of the problem at hand. Let’s take a look at some of the hyperparameters we used and what it means to tune them:\n",
        "\n",
        "### Number of layers in the model: \n",
        "The number of layers in a neural network is an indicator of its complexity. We must be careful in choosing this value. Too many layers will allow the model to learn too much information about the training data, causing overfitting. Too few layers can limit the model’s learning ability, causing underfitting. For text classification datasets, we experimented with one, two, and three-layer MLPs. Models with two layers performed well, and in some cases better than three-layer models. Similarly, we tried sepCNNs with four and six layers, and the four-layer models performed well.\n",
        "\n",
        "### Number of units per layer:\n",
        "The units in a layer must hold the information for the transformation that a layer performs. For the first layer, this is driven by the number of features. In subsequent layers, the number of units depends on the choice of expanding or contracting the representation from the previous layer. Try to minimize the information loss between layers. We tried unit values in the range [8, 16, 32, 64], and 32/64 units worked well.\n",
        "\n",
        "### Dropout rate:\n",
        "Dropout layers are used in the model for regularization. They define the fraction of input to drop as a precaution for overfitting. Recommended range: 0.2–0.5.\n",
        "\n",
        "### Learning rate:\n",
        "This is the rate at which the neural network weights change between iterations. A large learning rate may cause large swings in the weights, and we may never find their optimal values. A low learning rate is good, but the model will take more iterations to converge. It is a good idea to start low, say at 1e-4. If the training is very slow, increase this value. If your model is not learning, try decreasing learning rate.\n",
        "\n",
        "There are couple of additional hyperparameters we tuned that are specific to our sepCNN model:\n",
        "\n",
        "### Kernel size:\n",
        "The size of the convolution window. Recommended values: 3 or 5.\n",
        "\n",
        "### Embedding dimensions:\n",
        "The number of dimensions we want to use to represent word embeddings—i.e., the size of each word vector. Recommended values: 50–300. In our experiments, we used GloVe embeddings with 200 dimensions with a pre- trained embedding layer.\n",
        "\n",
        "\n",
        "```\n",
        "Play around with these hyperparameters and see what works best. Once you have chosen the best-performing hyperparameters for your use case, your model is ready to be deployed.\n",
        "```"
      ]
    },
    {
      "cell_type": "markdown",
      "metadata": {
        "id": "EmYMobSwnZ17",
        "colab_type": "text"
      },
      "source": [
        "Refer to [the tutorial](https://github.com/google/eng-edu/tree/master/ml/guides/text_classification) for instructions on how to build additional parts of the model"
      ]
    }
  ]
}
