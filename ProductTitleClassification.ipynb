{
  "nbformat": 4,
  "nbformat_minor": 0,
  "metadata": {
    "colab": {
      "name": "ProductTitleClassification",
      "version": "0.3.2",
      "provenance": [],
      "collapsed_sections": [],
      "include_colab_link": true
    },
    "kernelspec": {
      "name": "python3",
      "display_name": "Python 3"
    },
    "accelerator": "GPU"
  },
  "cells": [
    {
      "cell_type": "markdown",
      "metadata": {
        "id": "view-in-github",
        "colab_type": "text"
      },
      "source": [
        "<a href=\"https://colab.research.google.com/github/MoltenMuffins/MagicSchoolBus/blob/master/ProductTitleClassification.ipynb\" target=\"_parent\"><img src=\"https://colab.research.google.com/assets/colab-badge.svg\" alt=\"Open In Colab\"/></a>"
      ]
    },
    {
      "metadata": {
        "id": "iiVJTGfKqTXa",
        "colab_type": "code",
        "outputId": "3759b9bc-6ecb-409f-e592-d2ea5e26898b",
        "colab": {
          "base_uri": "https://localhost:8080/",
          "height": 34
        }
      },
      "cell_type": "code",
      "source": [
        "import tensorflow as tf\n",
        "device_name = tf.test.gpu_device_name()\n",
        "if device_name != '/device:GPU:0':\n",
        "  raise SystemError('GPU device not found')\n",
        "print('Found GPU at: {}'.format(device_name))"
      ],
      "execution_count": 1,
      "outputs": [
        {
          "output_type": "stream",
          "text": [
            "Found GPU at: /device:GPU:0\n"
          ],
          "name": "stdout"
        }
      ]
    },
    {
      "metadata": {
        "id": "OQMcR0RRvrth",
        "colab_type": "code",
        "outputId": "66c7645a-d66f-4736-af8b-511f068629e1",
        "colab": {
          "base_uri": "https://localhost:8080/",
          "height": 34
        }
      },
      "cell_type": "code",
      "source": [
        "#Boilerplate code\n",
        "import os, json\n",
        "from glob import glob\n",
        "\n",
        "from tensorflow.keras.preprocessing import image\n",
        "from tensorflow.keras.preprocessing.image import ImageDataGenerator\n",
        "\n",
        "from tensorflow.keras.models import Model,load_model,Sequential\n",
        "\n",
        "from tensorflow.keras.layers import *\n",
        "from tensorflow.keras import backend as K\n",
        "\n",
        "import tensorflow as tf\n",
        "\n",
        "tf.VERSION"
      ],
      "execution_count": 2,
      "outputs": [
        {
          "output_type": "execute_result",
          "data": {
            "text/plain": [
              "'1.13.1'"
            ]
          },
          "metadata": {
            "tags": []
          },
          "execution_count": 2
        }
      ]
    },
    {
      "metadata": {
        "id": "qg3R3_JSvvSn",
        "colab_type": "code",
        "outputId": "6e307e32-4cdc-4366-c53d-afd233517738",
        "colab": {
          "base_uri": "https://localhost:8080/",
          "height": 51
        }
      },
      "cell_type": "code",
      "source": [
        "#Download the files from the Kaggle NSDC page\n",
        "!wget -qq https://www.dropbox.com/s/dlpf8lirpf69nvb/ndsc-beginner.zip\n",
        "\n",
        "#Unzip the zip file\n",
        "!unzip -qq ndsc-beginner.zip\n",
        "\n",
        "#Remove zipfile, we won't need it anymore\n",
        "!rm ndsc-beginner.zip\n",
        "\n",
        "#Check directory contents\n",
        "!ls\n",
        "\n",
        "#The files we want are all in the folder ndsc-beginner"
      ],
      "execution_count": 3,
      "outputs": [
        {
          "output_type": "stream",
          "text": [
            "rm: cannot remove '_MACOSX': No such file or directory\n",
            "__MACOSX  ndsc-beginner  sample_data\n"
          ],
          "name": "stdout"
        }
      ]
    },
    {
      "metadata": {
        "id": "olHcndxq0JXT",
        "colab_type": "code",
        "colab": {
          "base_uri": "https://localhost:8080/",
          "height": 2176
        },
        "outputId": "fa3df60e-e436-4061-e918-3eca4ebdf5fe"
      },
      "cell_type": "code",
      "source": [
        "#Now let's import train.csv using pandas\n",
        "\n",
        "import pandas as pd\n",
        "\n",
        "df = pd.read_csv('./ndsc-beginner/train.csv')\n",
        "print(df)"
      ],
      "execution_count": 13,
      "outputs": [
        {
          "output_type": "stream",
          "text": [
            "            itemid                                              title  \\\n",
            "0           307504               nyx sex bomb pallete natural palette   \n",
            "1           461203  etude house precious mineral any cushion pearl...   \n",
            "2          3592295                           milani rose powder blush   \n",
            "3          4460167                etude house baby sweet sugar powder   \n",
            "4          5853995       bedak revlon color stay aqua mineral make up   \n",
            "5          6208490                            dr pure whitening cream   \n",
            "6          6959546                         chanel powder blush malice   \n",
            "7          8984461                     snail white cream original 100   \n",
            "8          9184082                          sunprise all proof spf 50   \n",
            "9         10345338             eyebrow powder nyx satuan rp 15.000 pc   \n",
            "10        11016411                        monistat chafing relief gel   \n",
            "11        11425757                       milani rose powder blush tea   \n",
            "12        13017527                        the balm meet matte trimony   \n",
            "13        14733804               laneige water base cc cream spf36 pa   \n",
            "14        14954162  giordani gold age defying compact foundation d...   \n",
            "15        15584552  the body shop refill moisture white perfect fo...   \n",
            "16        16397989  lancome blush subtil long lasting powder blush...   \n",
            "17        16590500  missha line friends magic cushion moisture 2 r...   \n",
            "18        19715422                 elf acne fighting foundation beige   \n",
            "19        19764106                             cream dr biru original   \n",
            "20        19945560         city color cream concealer contour palette   \n",
            "21        20127280     etude pink vital water special trial kit isi 4   \n",
            "22        20467441        etude magic any cushion refill spf34 15gram   \n",
            "23        22557740                 city color cream concealer pallete   \n",
            "24        22836092                          make over cleansing cream   \n",
            "25        27427702                 missha perfect cover bb cream 20ml   \n",
            "26        27619267                             cream cr biru original   \n",
            "27        30522497                sale magic plus white cream premium   \n",
            "28        31870575  hadalabo gokujyun alpha ultimate anti aging lo...   \n",
            "29        31910624                   tony moly backstage gel eyeliner   \n",
            "...            ...                                                ...   \n",
            "666585  1475407681                                       oppo a83 2gb   \n",
            "666586  1475606464  baseus all screen arc surface tempered glass f...   \n",
            "666587  1479625507                 brandcode b81 plus 3sim big speker   \n",
            "666588  1480191322       terpopuler brandcode b3310 red garansi resmi   \n",
            "666589  1480960528  cuci gudang infinix hot 4 pro x556 bonus anti ...   \n",
            "666590  1481577843   new samsung galaxy j6 free anker powerport black   \n",
            "666591  1486335028                          samsung j7 prime terlaris   \n",
            "666592  1486479849           apple airpods with charging case terbaik   \n",
            "666593  1493423228                              samsung note 8 second   \n",
            "666594  1493713771  turun harga baterai lenovo vibe shot z920 z90 ...   \n",
            "666595  1494579437                                            oppo f9   \n",
            "666596  1494642496                                          lenovo z5   \n",
            "666597  1495219395  apple iphone 7 32 gb smartphone garansi resmi ...   \n",
            "666598  1496572038  bestseller nokia 130 dual sim new 2017 stok te...   \n",
            "666599  1500123221      big promo new arrivalls samsung galaxy note 9   \n",
            "666600  1500145488  wa 0831 4044 8453 oppo f1s plus 4g lte ram 4 g...   \n",
            "666601  1500632848                       xiaomi mi6 ceramic 6gb 128gb   \n",
            "666602  1503460007  promo spesial sony hear on 2 ear headphone mdr...   \n",
            "666603  1504182240  gratis ongkir mi max 2 series 4 64 global new ...   \n",
            "666604  1505572183  new promo samsung galaxy s8 plus case otterbox...   \n",
            "666605  1507136447  ipad mini 3 16gb wifi cell 4g lte second fulls...   \n",
            "666606  1507150396  stok terbatas samsung galaxy j4 2gb 32gb garan...   \n",
            "666607  1507459413  stok terbatas iphone 6s 128gb fu second origin...   \n",
            "666608  1510035980                                  iphone 8 64gb red   \n",
            "666609  1510470376  samsung note 9 rom 128gb ram 6gb new resmi kre...   \n",
            "666610  1510771637  beli 2 gratis 1 xiaomi mi mix black 6 64 rom g...   \n",
            "666611  1515822742  android i phone x real 4g 16gb free wireless c...   \n",
            "666612  1516747666                     xiaomi mia1 ram 4gb 64gb black   \n",
            "666613  1517270941                   khusus hari ini samsung j2 prime   \n",
            "666614  1518889125            oppo a83 2 gb new garansi resmi 1 tahun   \n",
            "\n",
            "        Category                                         image_path  \n",
            "0              0  beauty_image/6b2e9cbb279ac95703348368aa65da09.jpg  \n",
            "1              1  beauty_image/20450222d857c9571ba8fa23bdedc8c9.jpg  \n",
            "2              2  beauty_image/6a5962bed605a3dd6604ca3a4278a4f9.jpg  \n",
            "3              3  beauty_image/56987ae186e8a8e71fcc5a261ca485da.jpg  \n",
            "4              3  beauty_image/9c6968066ebab57588c2f757a240d8b9.jpg  \n",
            "5              4  beauty_image/77e6b7e9d5544adbfda6809b2351c4fa.jpg  \n",
            "6              2  beauty_image/485c4b8435a1e94976a569f3f014ea8b.jpg  \n",
            "7              4  beauty_image/c7336f1c2e590d4c2bee219a6a0351a7.jpg  \n",
            "8              4  beauty_image/970b32aa659689f371516e5ceb423e25.jpg  \n",
            "9              3  beauty_image/49a47745248031775c98593f70f7201a.jpg  \n",
            "10             4  beauty_image/b9c7520d1e7db646f3fd9a506bf217d2.jpg  \n",
            "11             1  beauty_image/61c6562efdb08df862c57c393d85165e.jpg  \n",
            "12             4  beauty_image/b127456214fbc670d769b44f67190845.jpg  \n",
            "13             5  beauty_image/df301ccce6dfdf8afbe92e29355c8a38.jpg  \n",
            "14             1  beauty_image/be2218804c9f47e0a52fa49e818d9867.jpg  \n",
            "15             3  beauty_image/3b0242f05b102ba074bf66c2546d542a.jpg  \n",
            "16             2  beauty_image/0025491eaeb55e40166dce7249ca24a4.jpg  \n",
            "17             1  beauty_image/4a910e099389786334aaf0de3673cd58.jpg  \n",
            "18             1  beauty_image/76f6e0a1827197bf0679c849d4b82d86.jpg  \n",
            "19             4  beauty_image/26404647e0917756245a970c776cc537.jpg  \n",
            "20             6  beauty_image/5b49b0c82ed6836f237a1b90e51ca121.jpg  \n",
            "21             4  beauty_image/8ca69542ef3293e5a4cfdcc1de9eb62c.jpg  \n",
            "22             1  beauty_image/2a162a70660c0014011e63ebf516507c.jpg  \n",
            "23             7  beauty_image/1ba175ad43f4a6df6f7b0624ba6dd184.jpg  \n",
            "24             4  beauty_image/ecd2a4d2b76b68790907c8be818b6ad7.jpg  \n",
            "25             5  beauty_image/ba141287b0e2b740ea159f186be18616.jpg  \n",
            "26             4  beauty_image/163625bccb1e9654a0211e3bca667d62.jpg  \n",
            "27             4  beauty_image/1ea09da324c1618ea21ee6a66e890bf2.jpg  \n",
            "28             4  beauty_image/bae673264179bfc87b9f79d239cb1d00.jpg  \n",
            "29             1  beauty_image/8624f77b832ca87d8a62f6403205b983.jpg  \n",
            "...          ...                                                ...  \n",
            "666585        41  mobile_image/a4100cd068e859ce6b7e8b956cc5bd5e.jpg  \n",
            "666586        32  mobile_image/fa0e255e0f9ae408301d5dc9d97da0b0.jpg  \n",
            "666587        39  mobile_image/3fc5e626bb81bb0535d729ce4d1e50fa.jpg  \n",
            "666588        39  mobile_image/7887fdf0b7fbdb2e0454eeff21a9dc2d.jpg  \n",
            "666589        35  mobile_image/6816283b360b72419334d77e036828f5.jpg  \n",
            "666590        32  mobile_image/23cbe7cb66eaaf033844e158d9370203.jpg  \n",
            "666591        35  mobile_image/46d04ca50bcda8a0b2e253a1a8ef1f12.jpg  \n",
            "666592        35  mobile_image/72e9a658d18896857bad42ce5cec2495.jpg  \n",
            "666593        32  mobile_image/a1ecbf5fda6b7b151651f4fd10949a24.jpg  \n",
            "666594        37  mobile_image/ef6f37a6bc966b9f58e77ef916502d9b.jpg  \n",
            "666595        41  mobile_image/e7a56bc222c2d99c61e88c7d17bc00b6.jpg  \n",
            "666596        37  mobile_image/92e3358d1af6eb3a7e3d254f9a658f2c.jpg  \n",
            "666597        31  mobile_image/106b2fe386fd9285361f4fee6168ba1b.jpg  \n",
            "666598        35  mobile_image/77fabce33d6dd0808c5478540ba0f570.jpg  \n",
            "666599        32  mobile_image/d641a6a2e31ad3b5a784e32bbd885281.jpg  \n",
            "666600        34  mobile_image/12d058a4dd8a75243f97708579e9490a.jpg  \n",
            "666601        34  mobile_image/5059fe330dba1c15b11ca68ecc665d45.jpg  \n",
            "666602        33  mobile_image/ceb1dc60cfdb8213cd4995d07d347dd0.jpg  \n",
            "666603        35  mobile_image/4537948c85075ae28c5557c7ce8adddd.jpg  \n",
            "666604        35  mobile_image/366e823343f347e5917e0ca6ae7902fd.jpg  \n",
            "666605        35  mobile_image/4f07fd3529a5b44e95a3646291fa00f7.jpg  \n",
            "666606        32  mobile_image/af2ce434de94ce997c9960dd7c6d3420.jpg  \n",
            "666607        31  mobile_image/360104cd7006c0aa7c9365312ae40501.jpg  \n",
            "666608        31  mobile_image/4bd23a85f190ca5d416904a709274b1e.jpg  \n",
            "666609        32  mobile_image/2bbbf3ed6fcfa0480278ea1b50557ac4.jpg  \n",
            "666610        34  mobile_image/70e0d8ddd69692b0f134498efbddf4e1.jpg  \n",
            "666611        35  mobile_image/d58393fe029ba62160d2a5d1fa6638a1.jpg  \n",
            "666612        34  mobile_image/bfacb3c9af2f6a597008e57fb2d34609.jpg  \n",
            "666613        32  mobile_image/42d74ab8212a24720d42e84c649ab488.jpg  \n",
            "666614        41  mobile_image/0b10f33a67ccb4ee3e1240d44c2ee0ef.jpg  \n",
            "\n",
            "[666615 rows x 4 columns]\n"
          ],
          "name": "stdout"
        }
      ]
    }
  ]
}